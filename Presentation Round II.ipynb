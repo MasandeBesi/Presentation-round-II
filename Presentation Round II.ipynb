{
  "cells": [
    {
      "cell_type": "raw",
      "metadata": {},
      "source": [
        "---\n",
        "title: |\n",
        "  <div style=\"text-align: left; margin-top: 0.5cm; font-size: 60px;\">\n",
        "  Mean-Variance Hedging with Neural Networks using Heston Model\n",
        "  <hr style=\"margin-top: 10px; border: none; height: 1px; background-color: black;\">\n",
        "  <div>\n",
        "subtitle: |\n",
        "  <div style=\"display: flex; justify-content: space-between; width: 60%; font-size: 60px;\">\n",
        "    <div style=\"text-align: left;\">\n",
        "      Author :\n",
        "      Lwando Mbanguta\n",
        "      Masande Besi\n",
        "    </div>\n",
        "    <div style=\"text-align: right;\">\n",
        "      Supervisor :\n",
        "      Yuri Robbertze\n",
        "      Jake Stangroom\n",
        "    </div>\n",
        "  </div>\n",
        "title-slide-attributes:\n",
        "    data-background-image: logo.png\n",
        "    data-background-size: contain\n",
        "    data-background-opacity: \"0.03\"\n",
        "toc: true\n",
        "format:\n",
        "  revealjs: \n",
        "    theme: serif\n",
        "    logo: UCT logo horizontal grayscale large.png\n",
        "---"
      ],
      "id": "f98e6525"
    },
    {
      "cell_type": "markdown",
      "metadata": {},
      "source": [
        "# Where we left off.\n",
        "\n",
        "## Abstract\n",
        "\n",
        "**Objective:** Investigate the effectiveness of hedging European basket options within a contractual framework between two parties. \n",
        "\n",
        "**Model Choice: ** Heston Model, a stochastic volatility model, to optimise the hedging strategy. \n",
        "\n",
        "**Factors Considered: **\n",
        "\n",
        "- Volatility of respective stocks\n",
        "- Co-variation of each stock with its volatility\n",
        "- Co-variation between the two stocks\n",
        "\n",
        "\n",
        "::: footer\n",
        "Learn more: \n",
        ":::\n",
        "\n",
        "```{slide, class=\"exclude-from-toc\"}\n",
        "##\n",
        "**Parameter Estimation: **\n",
        "\n",
        "\n",
        "\n",
        "# Neural Network Application \n",
        "\n",
        "# Application to Real-World Stocks\n",
        "\n",
        "# What Next?"
      ],
      "id": "bb7df636"
    }
  ],
  "metadata": {
    "kernelspec": {
      "display_name": "Python 3",
      "language": "python",
      "name": "python3"
    }
  },
  "nbformat": 4,
  "nbformat_minor": 5
}